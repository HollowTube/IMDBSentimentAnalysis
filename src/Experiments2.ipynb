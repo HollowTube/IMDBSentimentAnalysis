{
 "cells": [
  {
   "cell_type": "code",
   "execution_count": 2,
   "metadata": {
    "collapsed": false
   },
   "outputs": [
    {
     "name": "stdout",
     "output_type": "stream",
     "text": [
      "done\n"
     ]
    }
   ],
   "source": [
    "import os\n",
    "import pandas as pd\n",
    "\n",
    "\n",
    "pos_path = \".\\\\data\\\\train\\\\pos\\\\\"\n",
    "neg_path = \".\\\\data\\\\train\\\\neg\\\\\"\n",
    "\n",
    "neg_review_list = []\n",
    "pos_review_list = []\n",
    "review_list = []\n",
    "test_set = []\n",
    "\n",
    "for file in os.listdir(neg_path):\n",
    "    file_path = os.path.join(neg_path, file)\n",
    "    fh = open(file_path, 'r', encoding=\"utf8\")\n",
    "    entry = {'class': 0, 'raw_txt': fh.read()}\n",
    "    neg_review_list.append(entry)\n",
    "    fh.close()\n",
    "    \n",
    "for file in os.listdir(pos_path):\n",
    "    file_path = os.path.join(pos_path, file)\n",
    "    fh = open(file_path, 'r', encoding=\"utf8\")\n",
    "    entry = {'class': 1, 'raw_txt': fh.read()}\n",
    "    pos_review_list.append(entry)\n",
    "    fh.close()\n",
    "\n",
    "review_list = pd.DataFrame(neg_review_list + pos_review_list)\n",
    "\n",
    "print(\"done\")"
   ]
  },
  {
   "cell_type": "code",
   "execution_count": 105,
   "metadata": {
    "collapsed": true
   },
   "outputs": [
    {
     "name": "stdout",
     "output_type": "stream",
     "text": [
      "   class                                            raw_txt  \\\n0      0  Story of a man who has unnatural feelings for ...   \n1      0  Airport '77 starts as a brand new luxury 747 p...   \n2      0  This film lacked something I couldn't put my f...   \n3      0  Sorry everyone,,, I know this is supposed to b...   \n4      0  When I was little my parents took me along to ...   \n\n                                           processed  \\\n0  story of a man who has unnatural feelings for ...   \n1  airport 77 starts as a brand new luxury 747 pl...   \n2  this film lacked something i couldnt put my fi...   \n3  sorry everyone i know this is supposed to be a...   \n4  when i was little my parents took me along to ...   \n\n                                   text_not_stopword  length  words  \\\n0  stori man unnatur feel pig start open scene te...     644    112   \n1  airport 77 start brand new luxuri 747 plane lo...    4324    801   \n2  film lack someth couldnt put finger first char...     776    141   \n3  sorri everyon know suppos art film wow hand gu...     832    154   \n4  littl parent took along theater see interior o...    2265    395   \n\n   words_not_stopword  avg_word_length  commas  \n0                  63         6.365079       1  \n1                 484         5.456612      16  \n2                  64         6.375000       4  \n3                  79         5.784810      14  \n4                 208         6.596154      26  \n"
     ]
    }
   ],
   "source": [
    "import re\n",
    "from nltk.corpus import stopwords\n",
    "import numpy as np\n",
    "from nltk.stem.snowball import SnowballStemmer\n",
    "\n",
    "stopWords = set(stopwords.words('english'))\n",
    "\n",
    "def text_processing(txt):\n",
    "    stemmer = SnowballStemmer(\"english\",ignore_stopwords=True)\n",
    "    processed = re.sub(r'[^\\w\\s]','', txt.lower())\n",
    "    #processed = ' '.join([t for t in processed.split(' ')if t not in stopWords])\n",
    "    #processed = ' '.join([stemmer.stem(t) for t in processed.split(' ')])\n",
    "    return processed\n",
    "\n",
    "def processing(df):\n",
    "    # lowering and removing punctuation\n",
    "    df['processed'] = df['raw_txt'].apply(lambda x: text_processing(x))\n",
    "    # df['processed'] = df['raw_txt'].apply(lambda x: re.sub(r'[^\\w\\s]','', x.lower()))\n",
    "                                                                                                                     \n",
    "    # total length of sentence\n",
    "    df['length'] = df['processed'].apply(lambda x: len(x))\n",
    "    # get number of words\n",
    "    df['words'] = df['processed'].apply(lambda x: len(x.split(' ')))\n",
    "    df['words_not_stopword'] = df['processed'].apply(lambda x: len([t for t in x.split(' ')if t not in stopWords]))\n",
    "    # get the average word length\n",
    "    df['avg_word_length'] = df['processed'].apply(\n",
    "        lambda x: np.mean([len(t) for t in x.split(' ') if t not in stopWords]) if len(\n",
    "            [len(t) for t in x.split(' ') if t not in stopWords]) > 0 else 0)\n",
    "    # get the average word length\n",
    "    df['commas'] = df['raw_txt'].apply(lambda x: x.count(','))\n",
    "\n",
    "    return df\n",
    "\n",
    "\n",
    "df = processing(review_list)\n",
    "print(df.head())\n",
    "\n"
   ]
  },
  {
   "cell_type": "code",
   "execution_count": 78,
   "metadata": {
    "collapsed": true
   },
   "outputs": [
    {
     "name": "stdout",
     "output_type": "stream",
     "text": [
      "                                                 raw_txt  \\\n5610   Devil Hunter gained notoriety for the fact tha...   \n3742   What can I say about Seven Pounds...well I wat...   \n5692   This film was so predictable, that during the ...   \n22213  In an attempt to cash in on the success of Uni...   \n23165  Dark comedy? Gallows humor? How does one make ...   \n\n                                               processed  \\\n5610   devil hunter gained notoriety for the fact tha...   \n3742   what can i say about seven poundswell i watche...   \n5692   this film was so predictable that during the e...   \n22213  in an attempt to cash in on the success of uni...   \n23165  dark comedy gallows humor how does one make a ...   \n\n                                       text_not_stopword  length  words  \\\n5610   devil hunter gained notoriety fact dpp video n...    1405    280   \n3742   say seven poundswell watched flight seattle to...     727    133   \n5692   film predictable entire time youre hoping obvi...    1153    213   \n22213  attempt cash success universals horror films m...    2751    515   \n23165  dark comedy gallows humor one make comedy murd...    1179    217   \n\n       words_not_stopword  avg_word_length  commas  \n5610                  135         5.118519       9  \n3742                   71         5.802817       0  \n5692                   98         6.010204      10  \n22213                 264         5.696970       1  \n23165                 113         6.079646      14  \n"
     ]
    }
   ],
   "source": [
    "from sklearn.model_selection import train_test_split\n",
    "\n",
    "features = [f for f in df.columns.values if f not in ['class']]\n",
    "x_train, x_test, y_train, y_test = train_test_split(df[features], df['class'],\n",
    "                                                    test_size=0.20, random_state=10)\n",
    "x_set = df[features]\n",
    "target_set = df['class']\n",
    "print(x_train.head())"
   ]
  },
  {
   "cell_type": "code",
   "execution_count": 6,
   "metadata": {},
   "outputs": [],
   "source": [
    "from sklearn.base import BaseEstimator, TransformerMixin\n",
    "\n",
    "\n",
    "class TxtPicker(BaseEstimator, TransformerMixin):\n",
    "    def __init__(self, key):\n",
    "        self.key = key\n",
    "\n",
    "    def fit(self, X, y=None):\n",
    "        return self\n",
    "\n",
    "    def transform(self, X):\n",
    "        return X[self.key]\n",
    "\n",
    "\n",
    "class NumberSelector(BaseEstimator, TransformerMixin):\n",
    "    def __init__(self, key):\n",
    "        self.key = key\n",
    "\n",
    "    def fit(self, X, y=None):\n",
    "        return self\n",
    "\n",
    "    def transform(self, X):\n",
    "        return X[[self.key]]\n"
   ]
  },
  {
   "cell_type": "code",
   "execution_count": 98,
   "metadata": {},
   "outputs": [],
   "source": [
    "from sklearn.pipeline import Pipeline\n",
    "from sklearn.feature_extraction.text import TfidfVectorizer, CountVectorizer,HashingVectorizer\n",
    "from sklearn.preprocessing import StandardScaler\n",
    "\n",
    "\n",
    "tf_id_feature = Pipeline([\n",
    "    ('selector', TxtPicker(key='processed')),            \n",
    "    ('tfidf', TfidfVectorizer())\n",
    "])\n",
    "\n",
    "binary_count_feature = Pipeline([\n",
    "    ('selector', TxtPicker(key='processed')),            \n",
    "    ('count', HashingVectorizer(ngram_range=(1, 1)))\n",
    "])\n",
    "\n",
    "length = Pipeline([\n",
    "    ('selector', NumberSelector(key='length')),\n",
    "    ('standard', StandardScaler())\n",
    "])\n",
    "\n",
    "words = Pipeline([\n",
    "    ('selector', NumberSelector(key='words')),\n",
    "    ('standard', StandardScaler())\n",
    "])\n"
   ]
  },
  {
   "cell_type": "code",
   "execution_count": null,
   "metadata": {},
   "outputs": [],
   "source": [
    "\n",
    "from sklearn.pipeline import FeatureUnion\n",
    "feats_tfid = FeatureUnion([('text', tf_id_feature), \n",
    "                      ('length', length),\n",
    "                      ('words', words)\n",
    "                      ])\n",
    "\n",
    "feats_count = FeatureUnion([('text', binary_count_feature), \n",
    "])"
   ]
  },
  {
   "cell_type": "code",
   "execution_count": 113,
   "metadata": {
    "collapsed": true
   },
   "outputs": [
    {
     "name": "stderr",
     "output_type": "stream",
     "text": [
      "C:\\Users\\HollowTube\\Anaconda3\\envs\\MiniProject1\\lib\\site-packages\\sklearn\\preprocessing\\data.py:617: DataConversionWarning: Data with input dtype int64 were all converted to float64 by StandardScaler.\n  return self.partial_fit(X, y)\nC:\\Users\\HollowTube\\Anaconda3\\envs\\MiniProject1\\lib\\site-packages\\sklearn\\base.py:465: DataConversionWarning: Data with input dtype int64 were all converted to float64 by StandardScaler.\n  return self.fit(X, y, **fit_params).transform(X)\nC:\\Users\\HollowTube\\Anaconda3\\envs\\MiniProject1\\lib\\site-packages\\sklearn\\preprocessing\\data.py:617: DataConversionWarning: Data with input dtype int64 were all converted to float64 by StandardScaler.\n  return self.partial_fit(X, y)\nC:\\Users\\HollowTube\\Anaconda3\\envs\\MiniProject1\\lib\\site-packages\\sklearn\\base.py:465: DataConversionWarning: Data with input dtype int64 were all converted to float64 by StandardScaler.\n  return self.fit(X, y, **fit_params).transform(X)\nC:\\Users\\HollowTube\\Anaconda3\\envs\\MiniProject1\\lib\\site-packages\\sklearn\\preprocessing\\data.py:617: DataConversionWarning: Data with input dtype int64 were all converted to float64 by StandardScaler.\n  return self.partial_fit(X, y)\nC:\\Users\\HollowTube\\Anaconda3\\envs\\MiniProject1\\lib\\site-packages\\sklearn\\base.py:465: DataConversionWarning: Data with input dtype int64 were all converted to float64 by StandardScaler.\n  return self.fit(X, y, **fit_params).transform(X)\n"
     ]
    },
    {
     "name": "stderr",
     "output_type": "stream",
     "text": [
      "C:\\Users\\HollowTube\\Anaconda3\\envs\\MiniProject1\\lib\\site-packages\\sklearn\\linear_model\\logistic.py:757: ConvergenceWarning: lbfgs failed to converge. Increase the number of iterations.\n  \"of iterations.\", ConvergenceWarning)\n"
     ]
    },
    {
     "name": "stderr",
     "output_type": "stream",
     "text": [
      "C:\\Users\\HollowTube\\Anaconda3\\envs\\MiniProject1\\lib\\site-packages\\sklearn\\svm\\base.py:922: ConvergenceWarning: Liblinear failed to converge, increase the number of iterations.\n  \"the number of iterations.\", ConvergenceWarning)\n"
     ]
    },
    {
     "name": "stderr",
     "output_type": "stream",
     "text": [
      "C:\\Users\\HollowTube\\Anaconda3\\envs\\MiniProject1\\lib\\site-packages\\sklearn\\pipeline.py:451: DataConversionWarning: Data with input dtype int64 were all converted to float64 by StandardScaler.\n  Xt = transform.transform(Xt)\nC:\\Users\\HollowTube\\Anaconda3\\envs\\MiniProject1\\lib\\site-packages\\sklearn\\pipeline.py:451: DataConversionWarning: Data with input dtype int64 were all converted to float64 by StandardScaler.\n  Xt = transform.transform(Xt)\nC:\\Users\\HollowTube\\Anaconda3\\envs\\MiniProject1\\lib\\site-packages\\sklearn\\pipeline.py:451: DataConversionWarning: Data with input dtype int64 were all converted to float64 by StandardScaler.\n  Xt = transform.transform(Xt)\n"
     ]
    },
    {
     "data": {
      "text/plain": [
       "0.8904"
      ]
     },
     "execution_count": 113,
     "metadata": {},
     "output_type": "execute_result"
    }
   ],
   "source": [
    "\n",
    "from sklearn.linear_model import LogisticRegression\n",
    "from sklearn.feature_selection import SelectFromModel\n",
    "from sklearn.svm import LinearSVC\n",
    "from sklearn import tree\n",
    "\n",
    "\n",
    "svc_pipeline = Pipeline([\n",
    "    ('feats', feats_tfid),\n",
    "    ('selector',SelectFromModel(LogisticRegression(solver='lbfgs'))),\n",
    "    ('classifier', LinearSVC())])\n",
    "\n",
    "logistic_pipeline = Pipeline([\n",
    "    ('feats', feats_tfid),\n",
    "    ('selector',SelectFromModel(LinearSVC())),\n",
    "    ('classifier', LogisticRegression())])\n",
    "\n",
    "decision_tree_pipeline = Pipeline([\n",
    "    ('feats', feats_tfid),\n",
    "    ('classifier', tree.DecisionTreeClassifier())])\n",
    "\n",
    "svc_pipeline.fit(x_train, y_train)\n",
    "preds = svc_pipeline.predict(x_test)\n",
    "\n",
    "np.mean(preds == y_test)\n"
   ]
  },
  {
   "cell_type": "code",
   "execution_count": 88,
   "metadata": {
    "collapsed": false
   },
   "outputs": [
    {
     "name": "stderr",
     "output_type": "stream",
     "text": [
      "C:\\Users\\HollowTube\\Anaconda3\\envs\\MiniProject1\\lib\\site-packages\\sklearn\\preprocessing\\data.py:617: DataConversionWarning: Data with input dtype int64 were all converted to float64 by StandardScaler.\n  return self.partial_fit(X, y)\nC:\\Users\\HollowTube\\Anaconda3\\envs\\MiniProject1\\lib\\site-packages\\sklearn\\base.py:465: DataConversionWarning: Data with input dtype int64 were all converted to float64 by StandardScaler.\n  return self.fit(X, y, **fit_params).transform(X)\nC:\\Users\\HollowTube\\Anaconda3\\envs\\MiniProject1\\lib\\site-packages\\sklearn\\preprocessing\\data.py:617: DataConversionWarning: Data with input dtype int64 were all converted to float64 by StandardScaler.\n  return self.partial_fit(X, y)\nC:\\Users\\HollowTube\\Anaconda3\\envs\\MiniProject1\\lib\\site-packages\\sklearn\\base.py:465: DataConversionWarning: Data with input dtype int64 were all converted to float64 by StandardScaler.\n  return self.fit(X, y, **fit_params).transform(X)\nC:\\Users\\HollowTube\\Anaconda3\\envs\\MiniProject1\\lib\\site-packages\\sklearn\\preprocessing\\data.py:617: DataConversionWarning: Data with input dtype int64 were all converted to float64 by StandardScaler.\n  return self.partial_fit(X, y)\nC:\\Users\\HollowTube\\Anaconda3\\envs\\MiniProject1\\lib\\site-packages\\sklearn\\base.py:465: DataConversionWarning: Data with input dtype int64 were all converted to float64 by StandardScaler.\n  return self.fit(X, y, **fit_params).transform(X)\nC:\\Users\\HollowTube\\Anaconda3\\envs\\MiniProject1\\lib\\site-packages\\sklearn\\preprocessing\\data.py:617: DataConversionWarning: Data with input dtype int64 were all converted to float64 by StandardScaler.\n  return self.partial_fit(X, y)\nC:\\Users\\HollowTube\\Anaconda3\\envs\\MiniProject1\\lib\\site-packages\\sklearn\\base.py:465: DataConversionWarning: Data with input dtype int64 were all converted to float64 by StandardScaler.\n  return self.fit(X, y, **fit_params).transform(X)\n"
     ]
    },
    {
     "name": "stderr",
     "output_type": "stream",
     "text": [
      "C:\\Users\\HollowTube\\Anaconda3\\envs\\MiniProject1\\lib\\site-packages\\sklearn\\linear_model\\logistic.py:432: FutureWarning: Default solver will be changed to 'lbfgs' in 0.22. Specify a solver to silence this warning.\n  FutureWarning)\n"
     ]
    },
    {
     "name": "stderr",
     "output_type": "stream",
     "text": [
      "C:\\Users\\HollowTube\\Anaconda3\\envs\\MiniProject1\\lib\\site-packages\\sklearn\\pipeline.py:451: DataConversionWarning: Data with input dtype int64 were all converted to float64 by StandardScaler.\n  Xt = transform.transform(Xt)\nC:\\Users\\HollowTube\\Anaconda3\\envs\\MiniProject1\\lib\\site-packages\\sklearn\\pipeline.py:451: DataConversionWarning: Data with input dtype int64 were all converted to float64 by StandardScaler.\n  Xt = transform.transform(Xt)\nC:\\Users\\HollowTube\\Anaconda3\\envs\\MiniProject1\\lib\\site-packages\\sklearn\\pipeline.py:451: DataConversionWarning: Data with input dtype int64 were all converted to float64 by StandardScaler.\n  Xt = transform.transform(Xt)\nC:\\Users\\HollowTube\\Anaconda3\\envs\\MiniProject1\\lib\\site-packages\\sklearn\\pipeline.py:451: DataConversionWarning: Data with input dtype int64 were all converted to float64 by StandardScaler.\n  Xt = transform.transform(Xt)\n"
     ]
    },
    {
     "name": "stderr",
     "output_type": "stream",
     "text": [
      "C:\\Users\\HollowTube\\Anaconda3\\envs\\MiniProject1\\lib\\site-packages\\sklearn\\preprocessing\\data.py:617: DataConversionWarning: Data with input dtype int64 were all converted to float64 by StandardScaler.\n  return self.partial_fit(X, y)\nC:\\Users\\HollowTube\\Anaconda3\\envs\\MiniProject1\\lib\\site-packages\\sklearn\\base.py:465: DataConversionWarning: Data with input dtype int64 were all converted to float64 by StandardScaler.\n  return self.fit(X, y, **fit_params).transform(X)\nC:\\Users\\HollowTube\\Anaconda3\\envs\\MiniProject1\\lib\\site-packages\\sklearn\\preprocessing\\data.py:617: DataConversionWarning: Data with input dtype int64 were all converted to float64 by StandardScaler.\n  return self.partial_fit(X, y)\nC:\\Users\\HollowTube\\Anaconda3\\envs\\MiniProject1\\lib\\site-packages\\sklearn\\base.py:465: DataConversionWarning: Data with input dtype int64 were all converted to float64 by StandardScaler.\n  return self.fit(X, y, **fit_params).transform(X)\nC:\\Users\\HollowTube\\Anaconda3\\envs\\MiniProject1\\lib\\site-packages\\sklearn\\preprocessing\\data.py:617: DataConversionWarning: Data with input dtype int64 were all converted to float64 by StandardScaler.\n  return self.partial_fit(X, y)\nC:\\Users\\HollowTube\\Anaconda3\\envs\\MiniProject1\\lib\\site-packages\\sklearn\\base.py:465: DataConversionWarning: Data with input dtype int64 were all converted to float64 by StandardScaler.\n  return self.fit(X, y, **fit_params).transform(X)\nC:\\Users\\HollowTube\\Anaconda3\\envs\\MiniProject1\\lib\\site-packages\\sklearn\\preprocessing\\data.py:617: DataConversionWarning: Data with input dtype int64 were all converted to float64 by StandardScaler.\n  return self.partial_fit(X, y)\nC:\\Users\\HollowTube\\Anaconda3\\envs\\MiniProject1\\lib\\site-packages\\sklearn\\base.py:465: DataConversionWarning: Data with input dtype int64 were all converted to float64 by StandardScaler.\n  return self.fit(X, y, **fit_params).transform(X)\n"
     ]
    },
    {
     "name": "stderr",
     "output_type": "stream",
     "text": [
      "C:\\Users\\HollowTube\\Anaconda3\\envs\\MiniProject1\\lib\\site-packages\\sklearn\\linear_model\\logistic.py:432: FutureWarning: Default solver will be changed to 'lbfgs' in 0.22. Specify a solver to silence this warning.\n  FutureWarning)\n"
     ]
    },
    {
     "name": "stderr",
     "output_type": "stream",
     "text": [
      "C:\\Users\\HollowTube\\Anaconda3\\envs\\MiniProject1\\lib\\site-packages\\sklearn\\pipeline.py:451: DataConversionWarning: Data with input dtype int64 were all converted to float64 by StandardScaler.\n  Xt = transform.transform(Xt)\nC:\\Users\\HollowTube\\Anaconda3\\envs\\MiniProject1\\lib\\site-packages\\sklearn\\pipeline.py:451: DataConversionWarning: Data with input dtype int64 were all converted to float64 by StandardScaler.\n  Xt = transform.transform(Xt)\nC:\\Users\\HollowTube\\Anaconda3\\envs\\MiniProject1\\lib\\site-packages\\sklearn\\pipeline.py:451: DataConversionWarning: Data with input dtype int64 were all converted to float64 by StandardScaler.\n  Xt = transform.transform(Xt)\nC:\\Users\\HollowTube\\Anaconda3\\envs\\MiniProject1\\lib\\site-packages\\sklearn\\pipeline.py:451: DataConversionWarning: Data with input dtype int64 were all converted to float64 by StandardScaler.\n  Xt = transform.transform(Xt)\n"
     ]
    },
    {
     "name": "stderr",
     "output_type": "stream",
     "text": [
      "C:\\Users\\HollowTube\\Anaconda3\\envs\\MiniProject1\\lib\\site-packages\\sklearn\\preprocessing\\data.py:617: DataConversionWarning: Data with input dtype int64 were all converted to float64 by StandardScaler.\n  return self.partial_fit(X, y)\nC:\\Users\\HollowTube\\Anaconda3\\envs\\MiniProject1\\lib\\site-packages\\sklearn\\base.py:465: DataConversionWarning: Data with input dtype int64 were all converted to float64 by StandardScaler.\n  return self.fit(X, y, **fit_params).transform(X)\nC:\\Users\\HollowTube\\Anaconda3\\envs\\MiniProject1\\lib\\site-packages\\sklearn\\preprocessing\\data.py:617: DataConversionWarning: Data with input dtype int64 were all converted to float64 by StandardScaler.\n  return self.partial_fit(X, y)\nC:\\Users\\HollowTube\\Anaconda3\\envs\\MiniProject1\\lib\\site-packages\\sklearn\\base.py:465: DataConversionWarning: Data with input dtype int64 were all converted to float64 by StandardScaler.\n  return self.fit(X, y, **fit_params).transform(X)\nC:\\Users\\HollowTube\\Anaconda3\\envs\\MiniProject1\\lib\\site-packages\\sklearn\\preprocessing\\data.py:617: DataConversionWarning: Data with input dtype int64 were all converted to float64 by StandardScaler.\n  return self.partial_fit(X, y)\nC:\\Users\\HollowTube\\Anaconda3\\envs\\MiniProject1\\lib\\site-packages\\sklearn\\base.py:465: DataConversionWarning: Data with input dtype int64 were all converted to float64 by StandardScaler.\n  return self.fit(X, y, **fit_params).transform(X)\nC:\\Users\\HollowTube\\Anaconda3\\envs\\MiniProject1\\lib\\site-packages\\sklearn\\preprocessing\\data.py:617: DataConversionWarning: Data with input dtype int64 were all converted to float64 by StandardScaler.\n  return self.partial_fit(X, y)\nC:\\Users\\HollowTube\\Anaconda3\\envs\\MiniProject1\\lib\\site-packages\\sklearn\\base.py:465: DataConversionWarning: Data with input dtype int64 were all converted to float64 by StandardScaler.\n  return self.fit(X, y, **fit_params).transform(X)\n"
     ]
    },
    {
     "name": "stderr",
     "output_type": "stream",
     "text": [
      "C:\\Users\\HollowTube\\Anaconda3\\envs\\MiniProject1\\lib\\site-packages\\sklearn\\linear_model\\logistic.py:432: FutureWarning: Default solver will be changed to 'lbfgs' in 0.22. Specify a solver to silence this warning.\n  FutureWarning)\n"
     ]
    },
    {
     "name": "stderr",
     "output_type": "stream",
     "text": [
      "C:\\Users\\HollowTube\\Anaconda3\\envs\\MiniProject1\\lib\\site-packages\\sklearn\\pipeline.py:451: DataConversionWarning: Data with input dtype int64 were all converted to float64 by StandardScaler.\n  Xt = transform.transform(Xt)\nC:\\Users\\HollowTube\\Anaconda3\\envs\\MiniProject1\\lib\\site-packages\\sklearn\\pipeline.py:451: DataConversionWarning: Data with input dtype int64 were all converted to float64 by StandardScaler.\n  Xt = transform.transform(Xt)\nC:\\Users\\HollowTube\\Anaconda3\\envs\\MiniProject1\\lib\\site-packages\\sklearn\\pipeline.py:451: DataConversionWarning: Data with input dtype int64 were all converted to float64 by StandardScaler.\n  Xt = transform.transform(Xt)\nC:\\Users\\HollowTube\\Anaconda3\\envs\\MiniProject1\\lib\\site-packages\\sklearn\\pipeline.py:451: DataConversionWarning: Data with input dtype int64 were all converted to float64 by StandardScaler.\n  Xt = transform.transform(Xt)\n"
     ]
    }
   ],
   "source": [
    "from sklearn.model_selection import cross_val_score\n",
    "scores = cross_val_score(pipeline, x_set, target_set, cv=3)"
   ]
  },
  {
   "cell_type": "code",
   "execution_count": 90,
   "metadata": {},
   "outputs": [
    {
     "name": "stdout",
     "output_type": "stream",
     "text": [
      "Accuracy: 0.860 (+/- 0.01)\n"
     ]
    }
   ],
   "source": [
    "print(\"Accuracy: %0.3f (+/- %0.2f)\" % (scores.mean(), scores.std() * 2))"
   ]
  },
  {
   "cell_type": "code",
   "execution_count": 63,
   "metadata": {
    "collapsed": true
   },
   "outputs": [
    {
     "name": "stdout",
     "output_type": "stream",
     "text": [
      "                                             raw_txt\n0  Thinking that it could only get better was the...\n1  For most people, RoboCop 3 is the film that re...\n2  I'm pretty sure Poe would have considered this...\n3  This is one of those made-for-TV B movies that...\n4  Wallace & Gromit have been around for some tim...\n(25000, 1)\n"
     ]
    }
   ],
   "source": [
    "test_path = \".\\\\data\\\\test\\\\\"\n",
    "test_set = []\n",
    "\n",
    "numbers = re.compile(r'(\\d+)')\n",
    "def numericalSort(value):\n",
    "    parts = numbers.split(value)\n",
    "    parts[1::2] = map(int, parts[1::2])\n",
    "    return parts\n",
    "\n",
    "dir_list = sorted(os.listdir(test_path), key=numericalSort)\n",
    "\n",
    "for file in dir_list:\n",
    "    file_path = os.path.join(test_path, file)\n",
    "    fh = open(file_path, 'r', encoding=\"utf8\")\n",
    "    entry = {'raw_txt': fh.read()}\n",
    "    test_set.append(entry)\n",
    "    fh.close()\n",
    "\n",
    "test_set = pd.DataFrame(test_set)\n",
    "print(test_set.head())\n",
    "print(test_set.shape)\n"
   ]
  },
  {
   "cell_type": "code",
   "execution_count": 65,
   "metadata": {
    "collapsed": true
   },
   "outputs": [
    {
     "name": "stderr",
     "output_type": "stream",
     "text": [
      "C:\\Users\\HollowTube\\Anaconda3\\envs\\MiniProject1\\lib\\site-packages\\sklearn\\pipeline.py:451: DataConversionWarning: Data with input dtype int64 were all converted to float64 by StandardScaler.\n  Xt = transform.transform(Xt)\nC:\\Users\\HollowTube\\Anaconda3\\envs\\MiniProject1\\lib\\site-packages\\sklearn\\pipeline.py:451: DataConversionWarning: Data with input dtype int64 were all converted to float64 by StandardScaler.\n  Xt = transform.transform(Xt)\nC:\\Users\\HollowTube\\Anaconda3\\envs\\MiniProject1\\lib\\site-packages\\sklearn\\pipeline.py:451: DataConversionWarning: Data with input dtype int64 were all converted to float64 by StandardScaler.\n  Xt = transform.transform(Xt)\nC:\\Users\\HollowTube\\Anaconda3\\envs\\MiniProject1\\lib\\site-packages\\sklearn\\pipeline.py:451: DataConversionWarning: Data with input dtype int64 were all converted to float64 by StandardScaler.\n  Xt = transform.transform(Xt)\n"
     ]
    },
    {
     "name": "stdout",
     "output_type": "stream",
     "text": [
      "                                             raw_txt  \\\n0  Thinking that it could only get better was the...   \n1  For most people, RoboCop 3 is the film that re...   \n2  I'm pretty sure Poe would have considered this...   \n3  This is one of those made-for-TV B movies that...   \n4  Wallace & Gromit have been around for some tim...   \n\n                                           processed  \\\n0  thinking that it could only get better was the...   \n1  for most people robocop 3 is the film that rea...   \n2  im pretty sure poe would have considered this ...   \n3  this is one of those madefortv b movies that i...   \n4  wallace  gromit have been around for some time...   \n\n                                   text_not_stopword  length  words  \\\n0  thinking could get better worst assumption eve...     541    106   \n1  people robocop 3 film really big disgrace robo...    5125    998   \n2  im pretty sure poe would considered travesty f...     336     58   \n3  one madefortv b movies awful kind endearsbr br...     264     51   \n4  wallace  gromit around time first foray onto s...    1489    273   \n\n   words_not_stopword  avg_word_length  commas  \n0                  54         5.444444       3  \n1                 504         5.438492      66  \n2                  33         6.151515       5  \n3                  28         5.321429       1  \n4                 146         5.876712      15  \n   Category\n0         0\n1         0\n2         0\n3         0\n4         1\n"
     ]
    }
   ],
   "source": [
    "\n",
    "test_set = processing(test_set)\n",
    "\n",
    "test_predictions = pipeline.predict(test_set)\n",
    "\n",
    "prediction_df = pd.DataFrame(test_predictions)\n",
    "\n",
    "prediction_df.columns = ['Category']\n",
    "print(test_set.head())\n",
    "print(prediction_df.head())"
   ]
  },
  {
   "cell_type": "code",
   "execution_count": 66,
   "metadata": {},
   "outputs": [],
   "source": [
    "export_csv = prediction_df.to_csv (r'.\\test_results.csv', header=True)\n"
   ]
  }
 ],
 "metadata": {
  "kernelspec": {
   "display_name": "Python 2",
   "language": "python",
   "name": "python2"
  },
  "language_info": {
   "codemirror_mode": {
    "name": "ipython",
    "version": 2
   },
   "file_extension": ".py",
   "mimetype": "text/x-python",
   "name": "python",
   "nbconvert_exporter": "python",
   "pygments_lexer": "ipython2",
   "version": "2.7.6"
  }
 },
 "nbformat": 4,
 "nbformat_minor": 0
}
