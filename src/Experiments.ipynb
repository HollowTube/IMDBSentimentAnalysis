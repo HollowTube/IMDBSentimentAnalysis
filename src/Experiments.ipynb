{
 "cells": [
  {
   "cell_type": "markdown",
   "metadata": {},
   "source": [
    "# Importing the data set"
   ]
  },
  {
   "cell_type": "code",
   "execution_count": 45,
   "metadata": {
    "collapsed": true
   },
   "outputs": [
    {
     "name": "stdout",
     "output_type": "stream",
     "text": [
      "    class                                            raw_txt\n0       1  Story of a man who has unnatural feelings for ...\n1       1  Airport '77 starts as a brand new luxury 747 p...\n2       1  This film lacked something I couldn't put my f...\n3       1  Sorry everyone,,, I know this is supposed to b...\n4       1  When I was little my parents took me along to ...\n5       1  \"It appears that many critics find the idea of...\n6       1  The second attempt by a New York intellectual ...\n7       1  I don't know who to blame, the timid writers o...\n8       1  This film is mediocre at best. Angie Harmon is...\n9       1  The film is bad. There is no other way to say ...\n10      1  This film is one giant pant load. Paul Schrade...\n11      1  The plot for Descent, if it actually can be ca...\n12      1  Plot is not worth discussion even if it hints ...\n13      1  This film is about a male escort getting invol...\n14      1  This movie must be in line for the most boring...\n15      1  A worn-out plot of a man who takes the rap for...\n16      1  I saw this movie at a drive-in in 1959. Until ...\n17      1  Ghost of Dragstrip Hollow is a typical 1950's ...\n18      1  \"Ghost of Dragstrip Hollow\" was one of the man...\n19      1  \"Ghost of Dragstrip Hollow\" appears to take pl...\n20      1  Bromwell High is a cartoon comedy. It ran at t...\n21      1  Homelessness (or Houselessness as George Carli...\n22      1  Brilliant over-acting by Lesley Ann Warren. Be...\n23      1  This is easily the most underrated film inn th...\n24      1  This is not the typical Mel Brooks film. It wa...\n25      1  This isn't the comedic Robin Williams, nor is ...\n26      1  Yes its an art... to successfully make a slow ...\n27      1  In this \"critically acclaimed psychological th...\n28      1  THE NIGHT LISTENER (2006) **1/2 Robin Williams...\n29      1  You know, Robin Williams, God bless him, is co...\n30      1  When I first read Armistead Maupins story I wa...\n31      1  I liked the film. Some of the action scenes we...\n32      1  There are many illnesses born in the mind of m...\n33      1  I enjoyed The Night Listener very much. It's o...\n34      1  The Night Listener is probably not one of Will...\n35      1  Like one of the previous commenters said, this...\n36      1  The Night Listener held my attention, with Rob...\n37      1  Popular radio storyteller Gabriel No one(Robin...\n38      1  If there is one thing to recommend about this ...\n39      1  I absolutely LOVED this film! I do not at all ...\n"
     ]
    }
   ],
   "source": [
    "import os\n",
    "import numpy as np\n",
    "import pandas as np\n",
    "\n",
    "test_path = \".\\data\\\\test\\\\\"\n",
    "pos_path = \".\\data\\\\train\\\\pos\\\\\"\n",
    "neg_path = \".\\data\\\\train\\\\neg\\\\\"\n",
    "\n",
    "neg_review_list = []\n",
    "pos_review_list = []\n",
    "review_list = []\n",
    "test_set = []\n",
    "\n",
    "for file in os.listdir(neg_path):\n",
    "    file_path = os.path.join(neg_path, file)\n",
    "    fh = open(file_path, 'r', encoding=\"utf8\")\n",
    "    entry = {}\n",
    "    entry['class'] = 0\n",
    "    entry['raw_txt'] = fh.read()\n",
    "    neg_review_list.append(entry)\n",
    "    fh.close()\n",
    "    \n",
    "for file in os.listdir(pos_path):\n",
    "    file_path = os.path.join(pos_path, file)\n",
    "    fh = open(file_path, 'r', encoding=\"utf8\")\n",
    "    entry = {}\n",
    "    entry['class'] = 1\n",
    "    entry['raw_txt'] = fh.read()\n",
    "    pos_review_list.append(entry)\n",
    "    fh.close()\n",
    "\n",
    "review_list = pd.DataFrame(neg_review_list[:20] + pos_review_list[:20])\n",
    "review_list_test = pd.DataFrame(neg_review_list[20:30] + pos_review_list[20:30])\n",
    "\n",
    "pos_review_list = pd.DataFrame(pos_review_list)\n",
    "neg_review_list = pd.DataFrame(neg_review_list)\n",
    "\n",
    "\n",
    "print(review_list)"
   ]
  },
  {
   "cell_type": "markdown",
   "metadata": {},
   "source": [
    "Vectorizing the training set"
   ]
  },
  {
   "cell_type": "code",
   "execution_count": 48,
   "metadata": {},
   "outputs": [
    {
     "name": "stdout",
     "output_type": "stream",
     "text": [
      "[[0. 0. 0. ... 0. 0. 0.]\n [0. 0. 0. ... 0. 0. 0.]]\n"
     ]
    }
   ],
   "source": [
    "from sklearn.feature_extraction.text import HashingVectorizer\n",
    "import pandas as pd\n",
    "\n",
    "vectorizer = HashingVectorizer(binary=True, stop_words='english')\n",
    "x_train = vectorizer.fit_transform(review_list[]).toarray()\n",
    "print(x_train)"
   ]
  }
 ],
 "metadata": {
  "kernelspec": {
   "display_name": "Python 2",
   "language": "python",
   "name": "python2"
  },
  "language_info": {
   "codemirror_mode": {
    "name": "ipython",
    "version": 2
   },
   "file_extension": ".py",
   "mimetype": "text/x-python",
   "name": "python",
   "nbconvert_exporter": "python",
   "pygments_lexer": "ipython2",
   "version": "2.7.6"
  }
 },
 "nbformat": 4,
 "nbformat_minor": 0
}
